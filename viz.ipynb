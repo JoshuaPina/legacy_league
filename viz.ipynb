{
 "cells": [
  {
   "cell_type": "code",
   "execution_count": null,
   "id": "90d74d73",
   "metadata": {},
   "outputs": [],
   "source": [
    "import pandas as pd\n",
    "import matplotlib.pyplot as plt\n",
    "import seaborn as sns\n",
    "\n",
    "# Set a style for the plots for better aesthetics\n",
    "sns.set_style(\"whitegrid\")"
   ]
  },
  {
   "cell_type": "code",
   "execution_count": null,
   "id": "41195449",
   "metadata": {},
   "outputs": [],
   "source": [
    "# Load the data from the legacy CSV file\n",
    "df = pd.read_csv(\"cleaned_draft_history.csv\")\n",
    "\n",
    "# Display the first few rows to confirm it loaded correctly\n",
    "print(df.head())"
   ]
  },
  {
   "cell_type": "code",
   "execution_count": null,
   "id": "671b87e8",
   "metadata": {},
   "outputs": [],
   "source": [
    "import pandas as pd\n",
    "\n",
    "# Load the CSV file\n",
    "df = pd.read_csv(\"cleaned_draft_history.csv\")\n",
    "\n",
    "# Replace 'josh' with 'joshua' in the 'Manager' column\n",
    "df['Manager'] = df['Manager'].replace('joshua', 'josh')\n",
    "\n",
    "# Save the updated DataFrame to a new CSV file\n",
    "# 'index=False' prevents pandas from writing the DataFrame index as a column\n",
    "df.to_csv(\"cleaned_draft_history_corrected.csv\", index=False)\n",
    "\n",
    "print(\"Manager names corrected and saved to cleaned_draft_history_corrected.csv\")"
   ]
  },
  {
   "cell_type": "code",
   "execution_count": null,
   "id": "3c49614b",
   "metadata": {},
   "outputs": [],
   "source": [
    "df = pd.read_csv(\"cleaned_draft_history_corrected.csv\")\n",
    "\n",
    "# Display the first few rows to confirm it loaded correctly\n",
    "print(df.head(10))"
   ]
  },
  {
   "cell_type": "code",
   "execution_count": null,
   "id": "8e35e7f1",
   "metadata": {},
   "outputs": [],
   "source": [
    "import pandas as pd\n",
    "import matplotlib.pyplot as plt\n",
    "import seaborn as sns\n",
    "\n",
    "sns.set_style(\"whitegrid\")\n",
    "\n",
    "# Load the corrected data\n",
    "df = pd.read_csv(\"cleaned_draft_history_corrected.csv\")\n",
    "\n",
    "# Filter for teams with the #1 draft pick\n",
    "first_picks = df[df['OverallPick'] == 1]\n",
    "\n",
    "# Count how many times each manager had the #1 pick\n",
    "top_pick_counts = first_picks['Manager'].value_counts()\n",
    "\n",
    "# Create a bar chart\n",
    "plt.figure(figsize=(10, 6))\n",
    "sns.barplot(x=top_pick_counts.index, y=top_pick_counts.values, palette='viridis')\n",
    "plt.title('Most Frequent #1 Draft Picks')\n",
    "plt.xlabel('Manager')\n",
    "plt.ylabel('Number of Times with #1 Pick')\n",
    "plt.xticks(rotation=45, ha='right')\n",
    "plt.tight_layout()\n",
    "plt.show()"
   ]
  },
  {
   "cell_type": "code",
   "execution_count": null,
   "id": "e4d382df",
   "metadata": {},
   "outputs": [],
   "source": [
    "import pandas as pd\n",
    "import matplotlib.pyplot as plt\n",
    "import seaborn as sns\n",
    "\n",
    "sns.set_style(\"whitegrid\")\n",
    "\n",
    "# Load the corrected data\n",
    "df = pd.read_csv(\"cleaned_draft_history_corrected.csv\")\n",
    "\n",
    "# Count the number of unique years for each manager\n",
    "seasons_played = df.groupby('Manager')['Year'].nunique().sort_values(ascending=False)\n",
    "\n",
    "# Create a bar chart to visualize\n",
    "plt.figure(figsize=(10, 6))\n",
    "sns.barplot(x=seasons_played.index, y=seasons_played.values, palette='plasma')\n",
    "plt.title('Number of Seasons Played per Manager')\n",
    "plt.xlabel('Manager')\n",
    "plt.ylabel('Seasons Played')\n",
    "plt.xticks(rotation=45, ha='right')\n",
    "plt.tight_layout()\n",
    "plt.show()"
   ]
  },
  {
   "cell_type": "code",
   "execution_count": null,
   "id": "156d2671",
   "metadata": {},
   "outputs": [],
   "source": []
  }
 ],
 "metadata": {
  "kernelspec": {
   "display_name": ".venv",
   "language": "python",
   "name": "python3"
  },
  "language_info": {
   "codemirror_mode": {
    "name": "ipython",
    "version": 3
   },
   "file_extension": ".py",
   "mimetype": "text/x-python",
   "name": "python",
   "nbconvert_exporter": "python",
   "pygments_lexer": "ipython3",
   "version": "3.12.1"
  }
 },
 "nbformat": 4,
 "nbformat_minor": 5
}
