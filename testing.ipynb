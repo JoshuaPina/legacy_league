{
 "cells": [
  {
   "cell_type": "markdown",
   "id": "097fec54",
   "metadata": {},
   "source": [
    " Lets analyze some data..."
   ]
  },
  {
   "cell_type": "code",
   "execution_count": 87,
   "id": "89017a75",
   "metadata": {},
   "outputs": [
    {
     "name": "stdout",
     "output_type": "stream",
     "text": [
      "Package                 Version\n",
      "----------------------- -----------\n",
      "asttokens               3.0.0\n",
      "comm                    0.2.3\n",
      "contourpy               1.3.3\n",
      "cycler                  0.12.1\n",
      "debugpy                 1.8.16\n",
      "decorator               5.2.1\n",
      "et_xmlfile              2.0.0\n",
      "executing               2.2.0\n",
      "fonttools               4.59.1\n",
      "ipykernel               6.30.1\n",
      "ipython                 9.4.0\n",
      "ipython_pygments_lexers 1.1.1\n",
      "jedi                    0.19.2\n",
      "jupyter_client          8.6.3\n",
      "jupyter_core            5.8.1\n",
      "kiwisolver              1.4.9\n",
      "matplotlib              3.10.5\n",
      "matplotlib-inline       0.1.7\n",
      "nest-asyncio            1.6.0\n",
      "numpy                   2.3.2\n",
      "openpyxl                3.1.5\n",
      "packaging               25.0\n",
      "pandas                  2.3.2\n",
      "parso                   0.8.5\n",
      "pathlib                 1.0.1\n",
      "pexpect                 4.9.0\n",
      "pillow                  11.3.0\n",
      "pip                     25.2\n",
      "platformdirs            4.3.8\n",
      "prompt_toolkit          3.0.51\n",
      "psutil                  7.0.0\n",
      "ptyprocess              0.7.0\n",
      "pure_eval               0.2.3\n",
      "Pygments                2.19.2\n",
      "pyparsing               3.2.3\n",
      "python-dateutil         2.9.0.post0\n",
      "pytz                    2025.2\n",
      "pyzmq                   27.0.2\n",
      "seaborn                 0.13.2\n",
      "six                     1.17.0\n",
      "stack-data              0.6.3\n",
      "tornado                 6.5.2\n",
      "tqdm                    4.67.1\n",
      "traitlets               5.14.3\n",
      "tzdata                  2025.2\n",
      "wcwidth                 0.2.13\n"
     ]
    }
   ],
   "source": [
    "!pip list"
   ]
  },
  {
   "cell_type": "markdown",
   "id": "4406f0c6",
   "metadata": {},
   "source": [
    "I created a new environment for this project, so I ran \"!pip list\" to see what is already here."
   ]
  },
  {
   "cell_type": "markdown",
   "id": "b7df6e4b",
   "metadata": {},
   "source": [
    "I am running \"!pip install\" with the libraries that I know I will be using for sure, I may need to add some more later, but this will get me started up."
   ]
  },
  {
   "cell_type": "code",
   "execution_count": 88,
   "id": "f9678d3b",
   "metadata": {},
   "outputs": [
    {
     "name": "stdout",
     "output_type": "stream",
     "text": [
      "Requirement already satisfied: pandas in ./.venv/lib/python3.12/site-packages (2.3.2)\n",
      "Requirement already satisfied: tqdm in ./.venv/lib/python3.12/site-packages (4.67.1)\n",
      "Requirement already satisfied: numpy in ./.venv/lib/python3.12/site-packages (2.3.2)\n",
      "Requirement already satisfied: matplotlib in ./.venv/lib/python3.12/site-packages (3.10.5)\n",
      "Requirement already satisfied: seaborn in ./.venv/lib/python3.12/site-packages (0.13.2)\n",
      "Requirement already satisfied: pathlib in ./.venv/lib/python3.12/site-packages (1.0.1)\n",
      "Requirement already satisfied: openpyxl in ./.venv/lib/python3.12/site-packages (3.1.5)\n",
      "Requirement already satisfied: python-dateutil>=2.8.2 in ./.venv/lib/python3.12/site-packages (from pandas) (2.9.0.post0)\n",
      "Requirement already satisfied: pytz>=2020.1 in ./.venv/lib/python3.12/site-packages (from pandas) (2025.2)\n",
      "Requirement already satisfied: tzdata>=2022.7 in ./.venv/lib/python3.12/site-packages (from pandas) (2025.2)\n",
      "Requirement already satisfied: contourpy>=1.0.1 in ./.venv/lib/python3.12/site-packages (from matplotlib) (1.3.3)\n",
      "Requirement already satisfied: cycler>=0.10 in ./.venv/lib/python3.12/site-packages (from matplotlib) (0.12.1)\n",
      "Requirement already satisfied: fonttools>=4.22.0 in ./.venv/lib/python3.12/site-packages (from matplotlib) (4.59.1)\n",
      "Requirement already satisfied: kiwisolver>=1.3.1 in ./.venv/lib/python3.12/site-packages (from matplotlib) (1.4.9)\n",
      "Requirement already satisfied: packaging>=20.0 in ./.venv/lib/python3.12/site-packages (from matplotlib) (25.0)\n",
      "Requirement already satisfied: pillow>=8 in ./.venv/lib/python3.12/site-packages (from matplotlib) (11.3.0)\n",
      "Requirement already satisfied: pyparsing>=2.3.1 in ./.venv/lib/python3.12/site-packages (from matplotlib) (3.2.3)\n",
      "Requirement already satisfied: et-xmlfile in ./.venv/lib/python3.12/site-packages (from openpyxl) (2.0.0)\n",
      "Requirement already satisfied: six>=1.5 in ./.venv/lib/python3.12/site-packages (from python-dateutil>=2.8.2->pandas) (1.17.0)\n"
     ]
    }
   ],
   "source": [
    "!pip install pandas tqdm numpy matplotlib seaborn pathlib openpyxl"
   ]
  },
  {
   "cell_type": "markdown",
   "id": "10c1b4be",
   "metadata": {},
   "source": [
    "Trust but verify that they all installed correctly by checking \"!pip list\" again.,"
   ]
  },
  {
   "cell_type": "code",
   "execution_count": 89,
   "id": "07ef95c6",
   "metadata": {},
   "outputs": [
    {
     "name": "stdout",
     "output_type": "stream",
     "text": [
      "Package                 Version\n",
      "----------------------- -----------\n",
      "asttokens               3.0.0\n",
      "comm                    0.2.3\n",
      "contourpy               1.3.3\n",
      "cycler                  0.12.1\n",
      "debugpy                 1.8.16\n",
      "decorator               5.2.1\n",
      "et_xmlfile              2.0.0\n",
      "executing               2.2.0\n",
      "fonttools               4.59.1\n",
      "ipykernel               6.30.1\n",
      "ipython                 9.4.0\n",
      "ipython_pygments_lexers 1.1.1\n",
      "jedi                    0.19.2\n",
      "jupyter_client          8.6.3\n",
      "jupyter_core            5.8.1\n",
      "kiwisolver              1.4.9\n",
      "matplotlib              3.10.5\n",
      "matplotlib-inline       0.1.7\n",
      "nest-asyncio            1.6.0\n",
      "numpy                   2.3.2\n",
      "openpyxl                3.1.5\n",
      "packaging               25.0\n",
      "pandas                  2.3.2\n",
      "parso                   0.8.5\n",
      "pathlib                 1.0.1\n",
      "pexpect                 4.9.0\n",
      "pillow                  11.3.0\n",
      "pip                     25.2\n",
      "platformdirs            4.3.8\n",
      "prompt_toolkit          3.0.51\n",
      "psutil                  7.0.0\n",
      "ptyprocess              0.7.0\n",
      "pure_eval               0.2.3\n",
      "Pygments                2.19.2\n",
      "pyparsing               3.2.3\n",
      "python-dateutil         2.9.0.post0\n",
      "pytz                    2025.2\n",
      "pyzmq                   27.0.2\n",
      "seaborn                 0.13.2\n",
      "six                     1.17.0\n",
      "stack-data              0.6.3\n",
      "tornado                 6.5.2\n",
      "tqdm                    4.67.1\n",
      "traitlets               5.14.3\n",
      "tzdata                  2025.2\n",
      "wcwidth                 0.2.13\n"
     ]
    }
   ],
   "source": [
    "!pip list"
   ]
  },
  {
   "cell_type": "markdown",
   "id": "d03c3f24",
   "metadata": {},
   "source": [
    "To start, I will combine my spreadsheets to have a cleaner work flow. \n",
    "I have ADP sheets for 2016-2024 and where each player finished from 2016-2024. I can combine them by year to have 2 working sheets."
   ]
  },
  {
   "cell_type": "code",
   "execution_count": 90,
   "id": "05a9659b",
   "metadata": {},
   "outputs": [
    {
     "name": "stderr",
     "output_type": "stream",
     "text": [
      "Combining ADPs: 100%|██████████| 9/9 [00:00<00:00, 159.35it/s]\n"
     ]
    },
    {
     "name": "stdout",
     "output_type": "stream",
     "text": [
      "✅ Saved fantasypros_adp_2016_2024.csv\n"
     ]
    },
    {
     "name": "stderr",
     "output_type": "stream",
     "text": [
      "Combining Leaders: 100%|██████████| 9/9 [00:00<00:00, 288.78it/s]"
     ]
    },
    {
     "name": "stdout",
     "output_type": "stream",
     "text": [
      "✅ Saved fantasypros_leaders_2016_2024.csv\n"
     ]
    },
    {
     "name": "stderr",
     "output_type": "stream",
     "text": [
      "\n"
     ]
    }
   ],
   "source": [
    "import pandas as pd\n",
    "from pathlib import Path\n",
    "from tqdm import tqdm\n",
    "import re, csv\n",
    "\n",
    "def extract_year(path):\n",
    "    m = re.search(r\"(20\\d{2})\", path.name)\n",
    "    if not m:\n",
    "        raise ValueError(f\"No year in filename: {path.name}\")\n",
    "    return int(m.group(1))\n",
    "\n",
    "def read_csv_resilient(path: Path) -> pd.DataFrame:\n",
    "    \"\"\"Robust CSV reader for messy FantasyPros exports.\"\"\"\n",
    "    # 1) Try the fast path\n",
    "    try:\n",
    "        return pd.read_csv(path)\n",
    "    except Exception:\n",
    "        pass\n",
    "\n",
    "    # 2) Sniff dialect + use python engine (more forgiving)\n",
    "    try:\n",
    "        sample = path.read_text(encoding=\"utf-8\", errors=\"replace\")[:10000]\n",
    "        dialect = csv.Sniffer().sniff(sample)\n",
    "        return pd.read_csv(\n",
    "            path,\n",
    "            engine=\"python\",\n",
    "            sep=dialect.delimiter,\n",
    "            quotechar=dialect.quotechar,\n",
    "            skip_blank_lines=True\n",
    "        )\n",
    "    except Exception:\n",
    "        pass\n",
    "\n",
    "    # 3) Heavy-duty fallback: assume comma, keep quotes, skip only bad lines\n",
    "    return pd.read_csv(\n",
    "        path,\n",
    "        engine=\"python\",\n",
    "        sep=\",\",\n",
    "        quotechar='\"',\n",
    "        skip_blank_lines=True,\n",
    "        on_bad_lines=\"skip\"   # logs silently; change to 'warn' if you want messages\n",
    "    )\n",
    "\n",
    "# === COMBINE ADPs ===\n",
    "adp_folder = Path(\"data/average_draft_pos\")\n",
    "adp_dfs = []\n",
    "for path in tqdm(sorted(adp_folder.glob(\"*.csv\")), desc=\"Combining ADPs\"):\n",
    "    year = extract_year(path)\n",
    "    df = read_csv_resilient(path)\n",
    "    df[\"Year\"] = year\n",
    "    adp_dfs.append(df)\n",
    "\n",
    "adps_all = pd.concat(adp_dfs, ignore_index=True)\n",
    "adps_all = adps_all[[c for c in adps_all.columns if \"Unnamed\" not in c]]  # cleanup\n",
    "adps_all.to_csv(\"fantasypros_adp_2016_2024.csv\", index=False)\n",
    "print(\"✅ Saved fantasypros_adp_2016_2024.csv\")\n",
    "\n",
    "# === COMBINE SEASON END POINTS (Leaders) ===\n",
    "leaders_folder = Path(\"data/season_end_points\")\n",
    "leaders_dfs = []\n",
    "for path in tqdm(sorted(leaders_folder.glob(\"*.csv\")), desc=\"Combining Leaders\"):\n",
    "    year = extract_year(path)\n",
    "    df = read_csv_resilient(path)\n",
    "    df[\"Year\"] = year\n",
    "    leaders_dfs.append(df)\n",
    "\n",
    "leaders_all = pd.concat(leaders_dfs, ignore_index=True)\n",
    "leaders_all = leaders_all[[c for c in leaders_all.columns if \"Unnamed\" not in c]]\n",
    "leaders_all.to_csv(\"fantasypros_leaders_2016_2024.csv\", index=False)\n",
    "print(\"✅ Saved fantasypros_leaders_2016_2024.csv\")\n"
   ]
  },
  {
   "cell_type": "code",
   "execution_count": 91,
   "id": "ae698db3",
   "metadata": {},
   "outputs": [],
   "source": [
    "adps_all = pd.read_csv(\"fantasypros_adp_2016_2024.csv\")\n",
    "\n",
    "# pick only the relevant columns (adjust names if slightly different in your CSVs)\n",
    "adps_all = adps_all[['Year','Player','POS','Rank']]\n",
    "\n",
    "# save back to a slim version\n",
    "adps_all.to_csv(\"fantasypros_adp_slim.csv\", index=False)\n"
   ]
  },
  {
   "cell_type": "code",
   "execution_count": 92,
   "id": "75fc7209",
   "metadata": {},
   "outputs": [],
   "source": [
    "points_all = pd.read_csv(\"fantasypros_leaders_2016_2024.csv\")\n",
    "\n",
    "# pick only the relevant columns (adjust names if slightly different in your CSVs)\n",
    "points_all = points_all[['#','Player','Pos','Year', 'AVG', 'TTL']]\n",
    "\n",
    "# save back to a slim version\n",
    "points_all.to_csv(\"fantasypros_leaders_slim.csv\", index=False)\n",
    "\n"
   ]
  },
  {
   "cell_type": "code",
   "execution_count": 93,
   "id": "da2015ef",
   "metadata": {},
   "outputs": [
    {
     "name": "stdout",
     "output_type": "stream",
     "text": [
      "✅ Saved fantasypros_adp_top150.csv\n"
     ]
    }
   ],
   "source": [
    "adps_all = pd.read_csv(\"fantasypros_adp_slim.csv\")\n",
    "\n",
    "# For each year, keep only the first 150 ranked players\n",
    "adps_top150 = (adps_all\n",
    "    .sort_values([\"Year\",\"Rank\"])\n",
    "    .groupby(\"Year\")\n",
    "    .head(150)\n",
    "    .reset_index(drop=True)\n",
    ")\n",
    "\n",
    "adps_top150.to_csv(\"fantasypros_adp_top150.csv\", index=False)\n",
    "print(\"✅ Saved fantasypros_adp_top150.csv\")\n"
   ]
  },
  {
   "cell_type": "code",
   "execution_count": 94,
   "id": "9ddb6b8c",
   "metadata": {},
   "outputs": [
    {
     "name": "stdout",
     "output_type": "stream",
     "text": [
      "✅ Saved fantasypros_leaders_top150.csv\n"
     ]
    }
   ],
   "source": [
    "points_all = pd.read_csv(\"fantasypros_leaders_slim.csv\")\n",
    "\n",
    "# For each year, keep only the first 150 ranked players\n",
    "points_top150 = (points_all\n",
    "    .sort_values([\"Year\",\"#\"])\n",
    "    .groupby(\"Year\")\n",
    "    .head(150)\n",
    "    .reset_index(drop=True)\n",
    ")\n",
    "\n",
    "points_top150.to_csv(\"fantasypros_leaders_top150.csv\", index=False)\n",
    "print(\"✅ Saved fantasypros_leaders_top150.csv\")\n"
   ]
  },
  {
   "cell_type": "code",
   "execution_count": 95,
   "id": "5ab4f1c0",
   "metadata": {},
   "outputs": [
    {
     "name": "stdout",
     "output_type": "stream",
     "text": [
      "done\n"
     ]
    }
   ],
   "source": [
    "import pandas as pd\n",
    "\n",
    "xls = pd.ExcelFile(\"data/league_history/actual_draft_history_cleaned.xlsx\")\n",
    "\n",
    "# Grab only sheets that are years (2018, 2019, …, 2024)\n",
    "year_sheets = [s for s in xls.sheet_names if s.isdigit()]\n",
    "\n",
    "dfs = []\n",
    "for s in year_sheets:\n",
    "    df = pd.read_excel(xls, sheet_name=s)\n",
    "    df[\"Year\"] = int(s)  # add year column from sheet name\n",
    "    dfs.append(df)\n",
    "\n",
    "drafts_all = pd.concat(dfs, ignore_index=True)\n",
    "\n",
    "print(\"done\")\n"
   ]
  },
  {
   "cell_type": "code",
   "execution_count": 96,
   "id": "383c911c",
   "metadata": {},
   "outputs": [
    {
     "name": "stdout",
     "output_type": "stream",
     "text": [
      "Rows with 4 filled cells & first numeric: 238\n"
     ]
    }
   ],
   "source": [
    "import pandas as pd\n",
    "import numpy as np\n",
    "\n",
    "FILE = \"data/league_history/actual_draft_history_cleaned.xlsx\"\n",
    "SHEET = \"2024\"   # change to whichever year you want\n",
    "\n",
    "df = pd.read_excel(FILE, sheet_name=SHEET, header=None)\n",
    "\n",
    "count = 0\n",
    "for _, row in df.iterrows():\n",
    "    # grab first 4 columns only\n",
    "    cells = row.iloc[:4]\n",
    "    # check: all 4 have values AND first one is numeric\n",
    "    if cells.notna().sum() == 4 and pd.api.types.is_number(cells.iloc[0]):\n",
    "        count += 1\n",
    "\n",
    "print(f\"Rows with 4 filled cells & first numeric: {count}\")\n"
   ]
  },
  {
   "cell_type": "code",
   "execution_count": 99,
   "id": "77548518",
   "metadata": {},
   "outputs": [
    {
     "name": "stdout",
     "output_type": "stream",
     "text": [
      "PickInRound                      Player                            Team Manager  Year  OverallPick\n",
      "          1  Christian McCaffrey SF, RB              The Bowers that be     Ant  2024            1\n",
      "          2         Breece Hall NYJ, RB                  Breeces Pieces    Adam  2024            2\n",
      "          3         CeeDee Lamb Dal, WR                 Spin that Drake   Tyler  2024            3\n",
      "          4      Bijan Robinson Atl, RB                         DreamZz    Nate  2024            4\n",
      "          5         Tyreek Hill Mia, WR                        The Hill   Peete  2024            5\n",
      "          6   Amon-Ra St. Brown Det, WR             Mostert On The Beat     Vic  2024            6\n",
      "          7       Ja'Marr Chase Cin, WR The Battle of the JPs commences    Josh  2024            7\n",
      "          8     Jonathan Taylor Ind, RB             Joel Embiid Express Rashide  2024            8\n",
      "          9      Saquon Barkley Phi, RB               Mack Attack Combo     Mac  2024            9\n",
      "         10    Justin Jefferson Min, WR                Waist Management   Jesus  2024           10\n",
      "         11        Jahmyr Gibbs Det, RB     White Dudes For Harris, Son  Chacon  2024           11\n",
      "         12      Kyren Williams LAR, RB                       Charbzard  Jessie  2024           12\n",
      "         13  Travis Etienne Jr. Jax, RB                Right on Thielen    Paul  2024           13\n",
      "         14       Derrick Henry Bal, RB                 Jus me n Bo Nix   Dario  2024           14\n",
      "          1          James Cook Buf, RB                 Jus me n Bo Nix   Dario  2024           15\n",
      "          2        Isiah Pacheco KC, RB                Right on Thielen    Paul  2024           16\n",
      "          3          A.J. Brown Phi, WR                       Charbzard  Jessie  2024           17\n",
      "          4 Marvin Harrison Jr. Ari, WR     White Dudes For Harris, Son  Chacon  2024           18\n",
      "          5  Kenneth Walker III Sea, RB                Waist Management   Jesus  2024           19\n",
      "          6      Garrett Wilson NYJ, WR               Mack Attack Combo     Mac  2024           20\n",
      "          7          Puka Nacua LAR, WR             Joel Embiid Express Rashide  2024           21\n",
      "          8       Davante Adams LAR, WR The Battle of the JPs commences    Josh  2024           22\n",
      "          9        Rachaad White TB, RB             Mostert On The Beat     Vic  2024           23\n",
      "         10       De'Von Achane Mia, RB                        The Hill   Peete  2024           24\n",
      "         11         Alvin Kamara NO, RB                         DreamZz    Nate  2024           25\n",
      "         12        Drake London Atl, WR                 Spin that Drake   Tyler  2024           26\n",
      "         13          Chris Olave NO, WR                  Breeces Pieces    Adam  2024           27\n",
      "         14           Joe Mixon Hou, RB              The Bowers that be     Ant  2024           28\n",
      "          1        Nico Collins Hou, WR              The Bowers that be     Ant  2024           29\n",
      "          2 Michael Pittman Jr. Ind, WR                  Breeces Pieces    Adam  2024           30\n",
      "          3          Josh Jacobs GB, RB                 Spin that Drake   Tyler  2024           31\n",
      "          4         Travis Kelce KC, TE                         DreamZz    Nate  2024           32\n",
      "          5           Mike Evans TB, WR                        The Hill   Peete  2024           33\n",
      "          6    Deebo Samuel Sr. Wsh, WR             Mostert On The Beat     Vic  2024           34\n",
      "          7         Cooper Kupp Sea, WR The Battle of the JPs commences    Josh  2024           35\n",
      "          8          DK Metcalf Pit, WR             Joel Embiid Express Rashide  2024           36\n",
      "          9        Brandon Aiyuk SF, WR               Mack Attack Combo     Mac  2024           37\n",
      "         10          Zamir White LV, RB                Waist Management   Jesus  2024           38\n",
      "         11       Jaylen Waddle Mia, WR     White Dudes For Harris, Son  Chacon  2024           39\n",
      "         12        Stefon Diggs Hou, WR                       Charbzard  Jessie  2024           40\n",
      "         13       DeVonta Smith Phi, WR                Right on Thielen    Paul  2024           41\n",
      "         14            DJ Moore Chi, WR                 Jus me n Bo Nix   Dario  2024           42\n",
      "          1       Calvin Ridley Ten, WR                 Jus me n Bo Nix   Dario  2024           43\n",
      "          2          Kyle Pitts Atl, TE                Right on Thielen    Paul  2024           44\n",
      "          3    David Montgomery Det, RB                       Charbzard  Jessie  2024           45\n",
      "          4      Patrick Mahomes KC, QB     White Dudes For Harris, Son  Chacon  2024           46\n",
      "          5         Tee Higgins Cin, WR                Waist Management   Jesus  2024           47\n",
      "          6         Jalen Hurts Phi, QB               Mack Attack Combo     Mac  2024           48\n",
      "          7          Josh Allen Buf, QB             Joel Embiid Express Rashide  2024           49\n",
      "          8        Malik Nabers NYG, WR The Battle of the JPs commences    Josh  2024           50\n",
      "          9        Mark Andrews Bal, TE             Mostert On The Beat     Vic  2024           51\n",
      "         10         C.J. Stroud Hou, QB                        The Hill   Peete  2024           52\n",
      "         11       Lamar Jackson Bal, QB                         DreamZz    Nate  2024           53\n",
      "         12         Zay Flowers Bal, WR                 Spin that Drake   Tyler  2024           54\n",
      "         13        Trey McBride Ari, TE                  Breeces Pieces    Adam  2024           55\n",
      "         14         Sam LaPorta Det, TE              The Bowers that be     Ant  2024           56\n",
      "          1       D'Andre Swift Chi, RB              The Bowers that be     Ant  2024           57\n",
      "          2  Anthony Richardson Ind, QB                  Breeces Pieces    Adam  2024           58\n",
      "          3           Tank Dell Hou, WR                 Spin that Drake   Tyler  2024           59\n",
      "          4      George Pickens Pit, WR                         DreamZz    Nate  2024           60\n",
      "          5      Terry McLaurin Wsh, WR                        The Hill   Peete  2024           61\n",
      "          6        Kyler Murray Ari, QB             Mostert On The Beat     Vic  2024           62\n",
      "          7  Rhamondre Stevenson NE, RB The Battle of the JPs commences    Josh  2024           63\n",
      "          8         Aaron Jones Min, RB             Joel Embiid Express Rashide  2024           64\n",
      "          9        Najee Harris LAC, RB               Mack Attack Combo     Mac  2024           65\n",
      "         10        James Conner Ari, RB                Waist Management   Jesus  2024           66\n",
      "         11      Ezekiel Elliott FA, RB     White Dudes For Harris, Son  Chacon  2024           67\n",
      "         12          Jayden Reed GB, WR                       Charbzard  Jessie  2024           68\n",
      "         13     Christian Watson GB, WR                Right on Thielen    Paul  2024           69\n",
      "         14    Javonte Williams Dal, RB                 Jus me n Bo Nix   Dario  2024           70\n",
      "          1     DeAndre Hopkins Bal, WR                 Jus me n Bo Nix   Dario  2024           71\n",
      "          2          Jordan Love GB, QB                Right on Thielen    Paul  2024           72\n",
      "          3          Joe Burrow Cin, QB                       Charbzard  Jessie  2024           73\n",
      "          4          Nick Chubb Cle, RB     White Dudes For Harris, Son  Chacon  2024           74\n",
      "          5         Evan Engram Den, TE                Waist Management   Jesus  2024           75\n",
      "          6  Brian Robinson Jr. Wsh, RB               Mack Attack Combo     Mac  2024           76\n",
      "          7      Dalton Kincaid Buf, TE             Joel Embiid Express Rashide  2024           77\n",
      "          8         Chris Godwin TB, WR The Battle of the JPs commences    Josh  2024           78\n",
      "          9       Raheem Mostert LV, RB             Mostert On The Beat     Vic  2024           79\n",
      "         10        Tony Pollard Ten, RB                        The Hill   Peete  2024           80\n",
      "         11        Amari Cooper Buf, WR                         DreamZz    Nate  2024           81\n",
      "         12        George Kittle SF, TE                 Spin that Drake   Tyler  2024           82\n",
      "         13      Christian Kirk Hou, WR                  Breeces Pieces    Adam  2024           83\n",
      "         14        Tyjae Spears Ten, RB              The Bowers that be     Ant  2024           84\n",
      "          1          Rashee Rice KC, WR              The Bowers that be     Ant  2024           85\n",
      "          2           Zack Moss Cin, RB                  Breeces Pieces    Adam  2024           86\n",
      "          3        Dak Prescott Dal, QB                 Spin that Drake   Tyler  2024           87\n",
      "          4        Keenan Allen Chi, WR                         DreamZz    Nate  2024           88\n",
      "          5     Jonathon Brooks Car, RB                        The Hill   Peete  2024           89\n",
      "          6         Chase Brown Cin, RB             Mostert On The Beat     Vic  2024           90\n",
      "          7    Devin Singletary NYG, RB The Battle of the JPs commences    Josh  2024           91\n",
      "          8        Keon Coleman Buf, WR             Joel Embiid Express Rashide  2024           92\n",
      "          9      Jayden Daniels Wsh, QB               Mack Attack Combo     Mac  2024           93\n",
      "         10  Jaxon Smith-Njigba Sea, WR                Waist Management   Jesus  2024           94\n",
      "         11         Rome Odunze Chi, WR     White Dudes For Harris, Son  Chacon  2024           95\n",
      "         12         David Njoku Cle, TE                       Charbzard  Jessie  2024           96\n",
      "         13     Diontae Johnson Bal, WR                Right on Thielen    Paul  2024           97\n",
      "         14        J.K. Dobbins LAC, RB                 Jus me n Bo Nix   Dario  2024           98\n",
      "          1      Hollywood Brown KC, WR                 Jus me n Bo Nix   Dario  2024           99\n",
      "          2       Brandon Aubrey Dal, K                Right on Thielen    Paul  2024          100\n",
      "Saved cleaned draft history to cleaned_draft_history.csv\n"
     ]
    }
   ],
   "source": [
    "import pandas as pd\n",
    "\n",
    "FILE = \"data/league_history/actual_draft_history_cleaned.xlsx\"\n",
    "xls = pd.ExcelFile(FILE)\n",
    "year_sheets = [s for s in xls.sheet_names if s.isdigit()]\n",
    "\n",
    "all_years = []\n",
    "for s in year_sheets:\n",
    "    df = pd.read_excel(xls, sheet_name=s, header=None)\n",
    "\n",
    "    # keep only rows where first cell is an integer\n",
    "    df = df[df.iloc[:,0].apply(lambda x: str(x).isdigit())].copy()\n",
    "\n",
    "    # assign proper headers\n",
    "    df.columns = [\"PickInRound\",\"Player\",\"Team\",\"Manager\"]\n",
    "\n",
    "    # add Year and OverallPick\n",
    "    df[\"Year\"] = int(s)\n",
    "    df[\"OverallPick\"] = range(1, len(df)+1)\n",
    "\n",
    "    all_years.append(df)\n",
    "\n",
    "drafts_all = pd.concat(all_years, ignore_index=True)\n",
    "\n",
    "print(drafts_all.head(100).to_string(index=False))\n",
    "# Save to CSV\n",
    "output_file = \"cleaned_draft_history.csv\"\n",
    "drafts_all.to_csv(output_file, index=False)\n",
    "\n",
    "print(f\"Saved cleaned draft history to {output_file}\")\n"
   ]
  }
 ],
 "metadata": {
  "kernelspec": {
   "display_name": ".venv",
   "language": "python",
   "name": "python3"
  },
  "language_info": {
   "codemirror_mode": {
    "name": "ipython",
    "version": 3
   },
   "file_extension": ".py",
   "mimetype": "text/x-python",
   "name": "python",
   "nbconvert_exporter": "python",
   "pygments_lexer": "ipython3",
   "version": "3.12.1"
  }
 },
 "nbformat": 4,
 "nbformat_minor": 5
}
